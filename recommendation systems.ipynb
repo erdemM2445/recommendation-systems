{
 "cells": [
  {
   "cell_type": "code",
   "execution_count": 103,
   "metadata": {},
   "outputs": [],
   "source": [
    "import pandas as pd\n",
    "import numpy as np\n",
    "import matplotlib.pyplot as plt\n",
    "from sklearn.metrics.pairwise import pairwise_distances\n",
    "import scipy.sparse as sp\n",
    "from scipy.sparse.linalg import svds\n",
    "from sklearn.metrics import  mean_squared_error\n",
    "from sklearn.model_selection import train_test_split, cross_val_score, cross_val_predict\n",
    "from math import sqrt"
   ]
  },
  {
   "cell_type": "code",
   "execution_count": 74,
   "metadata": {},
   "outputs": [
    {
     "name": "stdout",
     "output_type": "stream",
     "text": [
      "Collecting sklearn\n",
      "  Downloading sklearn-0.0.tar.gz (1.1 kB)\n",
      "Requirement already satisfied: scikit-learn in c:\\users\\erdem\\anaconda3\\lib\\site-packages (from sklearn) (0.24.1)\n",
      "Requirement already satisfied: threadpoolctl>=2.0.0 in c:\\users\\erdem\\anaconda3\\lib\\site-packages (from scikit-learn->sklearn) (2.1.0)\n",
      "Requirement already satisfied: numpy>=1.13.3 in c:\\users\\erdem\\anaconda3\\lib\\site-packages (from scikit-learn->sklearn) (1.19.2)\n",
      "Requirement already satisfied: joblib>=0.11 in c:\\users\\erdem\\anaconda3\\lib\\site-packages (from scikit-learn->sklearn) (0.17.0)\n",
      "Requirement already satisfied: scipy>=0.19.1 in c:\\users\\erdem\\anaconda3\\lib\\site-packages (from scikit-learn->sklearn) (1.5.2)\n",
      "Building wheels for collected packages: sklearn\n",
      "  Building wheel for sklearn (setup.py): started\n",
      "  Building wheel for sklearn (setup.py): finished with status 'done'\n",
      "  Created wheel for sklearn: filename=sklearn-0.0-py2.py3-none-any.whl size=1321 sha256=7283a75e1e009924eb64c7cb4a5b0046f758fd0a6ce130621b56c042b746ae13\n",
      "  Stored in directory: c:\\users\\erdem\\appdata\\local\\pip\\cache\\wheels\\22\\0b\\40\\fd3f795caaa1fb4c6cb738bc1f56100be1e57da95849bfc897\n",
      "Successfully built sklearn\n",
      "Installing collected packages: sklearn\n",
      "Successfully installed sklearn-0.0\n",
      "Note: you may need to restart the kernel to use updated packages.\n"
     ]
    }
   ],
   "source": [
    "pip install sklearn"
   ]
  },
  {
   "cell_type": "code",
   "execution_count": 3,
   "metadata": {},
   "outputs": [
    {
     "name": "stdout",
     "output_type": "stream",
     "text": [
      "KullanıcıSayısı =943, filmsayısı =1682\n"
     ]
    },
    {
     "data": {
      "text/html": [
       "<div>\n",
       "<style scoped>\n",
       "    .dataframe tbody tr th:only-of-type {\n",
       "        vertical-align: middle;\n",
       "    }\n",
       "\n",
       "    .dataframe tbody tr th {\n",
       "        vertical-align: top;\n",
       "    }\n",
       "\n",
       "    .dataframe thead th {\n",
       "        text-align: right;\n",
       "    }\n",
       "</style>\n",
       "<table border=\"1\" class=\"dataframe\">\n",
       "  <thead>\n",
       "    <tr style=\"text-align: right;\">\n",
       "      <th></th>\n",
       "      <th>KullaniciId</th>\n",
       "      <th>FilmId</th>\n",
       "      <th>Degerlendirme</th>\n",
       "      <th>ZamanDamgasi</th>\n",
       "    </tr>\n",
       "  </thead>\n",
       "  <tbody>\n",
       "    <tr>\n",
       "      <th>0</th>\n",
       "      <td>196</td>\n",
       "      <td>242</td>\n",
       "      <td>3</td>\n",
       "      <td>881250949</td>\n",
       "    </tr>\n",
       "    <tr>\n",
       "      <th>1</th>\n",
       "      <td>186</td>\n",
       "      <td>302</td>\n",
       "      <td>3</td>\n",
       "      <td>891717742</td>\n",
       "    </tr>\n",
       "    <tr>\n",
       "      <th>2</th>\n",
       "      <td>22</td>\n",
       "      <td>377</td>\n",
       "      <td>1</td>\n",
       "      <td>878887116</td>\n",
       "    </tr>\n",
       "    <tr>\n",
       "      <th>3</th>\n",
       "      <td>244</td>\n",
       "      <td>51</td>\n",
       "      <td>2</td>\n",
       "      <td>880606923</td>\n",
       "    </tr>\n",
       "    <tr>\n",
       "      <th>4</th>\n",
       "      <td>166</td>\n",
       "      <td>346</td>\n",
       "      <td>1</td>\n",
       "      <td>886397596</td>\n",
       "    </tr>\n",
       "  </tbody>\n",
       "</table>\n",
       "</div>"
      ],
      "text/plain": [
       "   KullaniciId  FilmId  Degerlendirme  ZamanDamgasi\n",
       "0          196     242              3     881250949\n",
       "1          186     302              3     891717742\n",
       "2           22     377              1     878887116\n",
       "3          244      51              2     880606923\n",
       "4          166     346              1     886397596"
      ]
     },
     "execution_count": 3,
     "metadata": {},
     "output_type": "execute_result"
    }
   ],
   "source": [
    "baslik = [\"KullaniciId\" , \"FilmId\" , \"Degerlendirme\" , \"ZamanDamgasi\"]\n",
    "df = pd.read_csv(\"u.data\" , sep = \"\\t\" , names = baslik)\n",
    "KullanıcıSayısı = df.KullaniciId.unique().shape[0]\n",
    "FilmSayısı = df.FilmId.unique().shape[0]\n",
    "print(\"KullanıcıSayısı =\" + str(KullanıcıSayısı) + \", filmsayısı =\" + str(FilmSayısı))\n",
    "df.head()"
   ]
  },
  {
   "cell_type": "code",
   "execution_count": 18,
   "metadata": {},
   "outputs": [
    {
     "data": {
      "image/png": "[encoded data removed]",
      "text/plain": [
       "<Figure size 432x288 with 1 Axes>"
      ]
     },
     "metadata": {
      "needs_background": "light"
     },
     "output_type": "display_data"
    }
   ],
   "source": [
    "plt.rc(\"font\" , size = 10)\n",
    "df.Degerlendirme.value_counts(sort = False).plot(kind = \"bar\")\n",
    "plt.title(\"Değerlendirme Dağılımı\")\n",
    "plt.xlabel(\"Değer\")\n",
    "plt.ylabel(\"Beğeni Sayısı\")\n",
    "plt.show()"
   ]
  },
  {
   "cell_type": "code",
   "execution_count": null,
   "metadata": {},
   "outputs": [],
   "source": [
    "df_ort = pd.DataFrame(round(df.groupby(\"FilmId\")[\"Degerlendirme\"].mean() , 2))\n",
    "df_ort[\"DsTemp\"] = pd.DataFrame(df.groupby(\"FilmId\")[\"Degerlendirme\"].count())\n",
    "df_ort.columns = [\"Deger Ortalamasi\" , \"Deger Sayisi\"]\n",
    "df_ort.sort_values(\"Deger Sayisi\" , ascending = False).head()"
   ]
  },
  {
   "cell_type": "code",
   "execution_count": 46,
   "metadata": {},
   "outputs": [
    {
     "data": {
      "text/plain": [
       "(943, 1682)"
      ]
     },
     "execution_count": 46,
     "metadata": {},
     "output_type": "execute_result"
    }
   ],
   "source": [
    "k_u_matris = np.zeros((KullanıcıSayısı, FilmSayısı))\n",
    "for line in df.itertuples():\n",
    "    k_u_matris[line[1]-1 , line[2]-1] = line[3]\n",
    "k_u_matris.shape"
   ]
  },
  {
   "cell_type": "code",
   "execution_count": 47,
   "metadata": {},
   "outputs": [
    {
     "data": {
      "text/plain": [
       "array([[5., 3., 4., ..., 0., 0., 0.],\n",
       "       [4., 0., 0., ..., 0., 0., 0.],\n",
       "       [0., 0., 0., ..., 0., 0., 0.],\n",
       "       ...,\n",
       "       [5., 0., 0., ..., 0., 0., 0.],\n",
       "       [0., 0., 0., ..., 0., 0., 0.],\n",
       "       [0., 5., 0., ..., 0., 0., 0.]])"
      ]
     },
     "execution_count": 47,
     "metadata": {},
     "output_type": "execute_result"
    }
   ],
   "source": [
    "k_u_matris"
   ]
  },
  {
   "cell_type": "code",
   "execution_count": 49,
   "metadata": {},
   "outputs": [
    {
     "data": {
      "text/plain": [
       "(943, 943)"
      ]
     },
     "execution_count": 49,
     "metadata": {},
     "output_type": "execute_result"
    }
   ],
   "source": [
    "kullanici_benzerlik = pairwise_distances(k_u_matris , metric = \"cosine\")\n",
    "kullanici_benzerlik.shape"
   ]
  },
  {
   "cell_type": "code",
   "execution_count": 50,
   "metadata": {},
   "outputs": [
    {
     "data": {
      "text/plain": [
       "array([[0.        , 0.83306902, 0.95254046, ..., 0.85138306, 0.82049212,\n",
       "        0.60182526],\n",
       "       [0.83306902, 0.        , 0.88940868, ..., 0.83851522, 0.82773219,\n",
       "        0.89420212],\n",
       "       [0.95254046, 0.88940868, 0.        , ..., 0.89875744, 0.86658385,\n",
       "        0.97344413],\n",
       "       ...,\n",
       "       [0.85138306, 0.83851522, 0.89875744, ..., 0.        , 0.8983582 ,\n",
       "        0.90488042],\n",
       "       [0.82049212, 0.82773219, 0.86658385, ..., 0.8983582 , 0.        ,\n",
       "        0.81753534],\n",
       "       [0.60182526, 0.89420212, 0.97344413, ..., 0.90488042, 0.81753534,\n",
       "        0.        ]])"
      ]
     },
     "execution_count": 50,
     "metadata": {},
     "output_type": "execute_result"
    }
   ],
   "source": [
    "kullanici_benzerlik"
   ]
  },
  {
   "cell_type": "code",
   "execution_count": 56,
   "metadata": {},
   "outputs": [],
   "source": [
    "def tahmin(degerlendirme , benzerlik):\n",
    "    ort_deg = degerlendirme.mean(axis = 1)\n",
    "    deg_fark = (degerlendirme - ort_deg[:,np.newaxis])\n",
    "    tahmin = ort_deg[: , np.newaxis] + benzerlik.dot(deg_fark) / np.array([np.abs(benzerlik).sum(axis=1)]).T\n",
    "    return tahmin"
   ]
  },
  {
   "cell_type": "code",
   "execution_count": 57,
   "metadata": {},
   "outputs": [],
   "source": [
    "kullanici_tahmin = tahmin(k_u_matris , kullanici_benzerlik)"
   ]
  },
  {
   "cell_type": "code",
   "execution_count": 60,
   "metadata": {},
   "outputs": [
    {
     "data": {
      "text/plain": [
       "array([[ 2.06532606,  0.73430275,  0.62992381, ...,  0.39359041,\n",
       "         0.39304874,  0.3927712 ],\n",
       "       [ 1.76308836,  0.38404019,  0.19617889, ..., -0.08837789,\n",
       "        -0.0869183 , -0.08671183],\n",
       "       [ 1.79590398,  0.32904733,  0.15882885, ..., -0.13699223,\n",
       "        -0.13496852, -0.13476488],\n",
       "       ...,\n",
       "       [ 1.59151513,  0.27526889,  0.10219534, ..., -0.16735162,\n",
       "        -0.16657451, -0.16641377],\n",
       "       [ 1.81036267,  0.40479877,  0.27545013, ..., -0.00907358,\n",
       "        -0.00846587, -0.00804858],\n",
       "       [ 1.8384313 ,  0.47964837,  0.38496292, ...,  0.14686675,\n",
       "         0.14629808,  0.14641455]])"
      ]
     },
     "execution_count": 60,
     "metadata": {},
     "output_type": "execute_result"
    }
   ],
   "source": [
    "kullanici_tahmin"
   ]
  },
  {
   "cell_type": "code",
   "execution_count": 63,
   "metadata": {},
   "outputs": [
    {
     "name": "stdout",
     "output_type": "stream",
     "text": [
      "Seyreklik : % 93.7\n"
     ]
    }
   ],
   "source": [
    "seyreklik = round(1.0 - len(df) / float(KullanıcıSayısı * FilmSayısı) , 4)\n",
    "print(\"Seyreklik : % \" + str(seyreklik*100))"
   ]
  },
  {
   "cell_type": "code",
   "execution_count": 66,
   "metadata": {},
   "outputs": [
    {
     "data": {
      "text/plain": [
       "(943, 30)"
      ]
     },
     "execution_count": 66,
     "metadata": {},
     "output_type": "execute_result"
    }
   ],
   "source": [
    "U, S , Vt = svds(k_u_matris , k = 30)\n",
    "U.shape"
   ]
  },
  {
   "cell_type": "code",
   "execution_count": 104,
   "metadata": {},
   "outputs": [],
   "source": [
    "def RMSE_Hesapla(tahmin , referans_veri):\n",
    "    tahmin = tahmin[referans_veri.nonzero()].flatten()\n",
    "    referans_veri = referans_veri[referans_veri.nonzero()].flatten()\n",
    "    return sqrt(mean_squared_error(tahmin , referans_veri))"
   ]
  },
  {
   "cell_type": "code",
   "execution_count": 85,
   "metadata": {},
   "outputs": [],
   "source": [
    "#test ve eğitim veri kümesinin ayrıştırılması\n",
    "egitim_veri_kümesi , test_veri_kümesi = train_test_split(df , test_size = 0.30)"
   ]
  },
  {
   "cell_type": "code",
   "execution_count": 88,
   "metadata": {},
   "outputs": [],
   "source": [
    "#eğitim matrisinin oluşturulması\n",
    "k_u_matris_egitim = np.zeros((KullanıcıSayısı , FilmSayısı))\n",
    "for line in egitim_veri_kümesi.itertuples():\n",
    "    k_u_matris_egitim[line[1]-1 , line[2]-1] = line[3]"
   ]
  },
  {
   "cell_type": "code",
   "execution_count": 86,
   "metadata": {},
   "outputs": [],
   "source": [
    "#test matrisinin oluşturulması\n",
    "k_u_matris_test = np.zeros((KullanıcıSayısı , FilmSayısı))\n",
    "for line in test_veri_kümesi.itertuples():\n",
    "    k_u_matris_test[line[1]-1 , line[2]-1] = line[3]"
   ]
  },
  {
   "cell_type": "code",
   "execution_count": 89,
   "metadata": {},
   "outputs": [],
   "source": [
    "#kullanıcılar arasındaki benzerliklerin hesaplanması\n",
    "kullanici_benzerlik = pairwise_distances(k_u_matris_egitim , metric = \"cosine\")"
   ]
  },
  {
   "cell_type": "code",
   "execution_count": 90,
   "metadata": {},
   "outputs": [],
   "source": [
    "#tahmin fonksiyonun çağrılması\n",
    "kullanici_tahmin = tahmin(k_u_matris_egitim,kullanici_benzerlik)"
   ]
  },
  {
   "cell_type": "code",
   "execution_count": 93,
   "metadata": {},
   "outputs": [
    {
     "name": "stdout",
     "output_type": "stream",
     "text": [
      "Orjinal RMSE: 3.1578375577415105\n"
     ]
    }
   ],
   "source": [
    "print(\"Orjinal RMSE: \" + str(RMSE_Hesapla(kullanici_tahmin,k_u_matris_test)))"
   ]
  },
  {
   "cell_type": "code",
   "execution_count": 107,
   "metadata": {},
   "outputs": [
    {
     "name": "stdout",
     "output_type": "stream",
     "text": [
      "SVD RMSE:2.8664181766509946\n"
     ]
    }
   ],
   "source": [
    "#SVD Hesaplama\n",
    "U , S , Vt = svds(k_u_matris_egitim, k = 30)\n",
    "S_diyag_matris = np.diag(S)\n",
    "SVD_tahmin = np.dot(np.dot(U , S_diyag_matris) , Vt)\n",
    "print(\"SVD RMSE:\" + str(RMSE_Hesapla(SVD_tahmin,k_u_matris_test)))"
   ]
  },
  {
   "cell_type": "code",
   "execution_count": null,
   "metadata": {},
   "outputs": [],
   "source": [
    "_"
   ]
  }
 ],
 "metadata": {
  "kernelspec": {
   "display_name": "Python 3",
   "language": "python",
   "name": "python3"
  },
  "language_info": {
   "codemirror_mode": {
    "name": "ipython",
    "version": 3
   },
   "file_extension": ".py",
   "mimetype": "text/x-python",
   "name": "python",
   "nbconvert_exporter": "python",
   "pygments_lexer": "ipython3",
   "version": "3.8.5"
  }
 },
 "nbformat": 4,
 "nbformat_minor": 4
}
